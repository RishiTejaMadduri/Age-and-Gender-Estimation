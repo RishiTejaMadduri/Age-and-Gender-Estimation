{
 "cells": [
  {
   "cell_type": "code",
   "execution_count": 1,
   "metadata": {},
   "outputs": [
    {
     "name": "stderr",
     "output_type": "stream",
     "text": [
      "Using TensorFlow backend.\n"
     ]
    }
   ],
   "source": [
    "from keras.models import Model, Sequential\n",
    "from keras.layers import Input, Convolution2D, ZeroPadding2D, MaxPooling2D, Flatten, Dropout, Activation\n",
    "from PIL import Image\n",
    "import keras\n",
    "from keras.models import model_from_json\n",
    "import numpy as np\n",
    "import tensorflow as tf\n",
    "from warnings import filterwarnings\n",
    "import pickle\n",
    "weights_file='/home/rishi/Projects/Matroid/Rishi_Challenge/Data/vgg_data_preprocessing/pkl_weights'"
   ]
  },
  {
   "cell_type": "code",
   "execution_count": 2,
   "metadata": {},
   "outputs": [],
   "source": [
    "def conv_layer(input, name, filters,kernel_weight, bias_weight, ksize=3):\n",
    "    with tf.name_scope(name):\n",
    "        return tf.layers.conv2d(inputs=input, filters=filters,kernel_size=[ksize, ksize], padding='same',\n",
    "        activation=tf.nn.relu, kernel_initializer=get_initial(kernel_weight),\n",
    "        bias_initializer=get_initial(bias_weight),\n",
    "        trainable=False)"
   ]
  },
  {
   "cell_type": "code",
   "execution_count": 3,
   "metadata": {},
   "outputs": [],
   "source": [
    "def fc_layer(self, input, name, unit, kernel_weight, bias_weight, use_dropout=False, trainable=False, use_relu=True):\n",
    "    with tf.variable_scope(name):\n",
    "        if use_relu:\n",
    "            ac = tf.nn.relu\n",
    "        else:\n",
    "            ac = None\n",
    "\n",
    "        fc = tf.layers.dense(inputs=input, units=unit, activation=ac,\n",
    "        kernel_initializer=self.get_initial(kernel_weight),\n",
    "        bias_initializer=self.get_initial(bias_weight), trainable=trainable)\n",
    "        dropout = tf.layers.dropout(fc, 0.5, training=use_dropout)\n",
    "        return dropout"
   ]
  },
  {
   "cell_type": "code",
   "execution_count": 4,
   "metadata": {},
   "outputs": [],
   "source": [
    "def max_pool(input, name=None, stride=2):\n",
    "    return tf.layers.max_pooling2d(inputs=input, pool_size=[2, 2], strides=stride, padding='same', name=name)"
   ]
  },
  {
   "cell_type": "code",
   "execution_count": 5,
   "metadata": {},
   "outputs": [],
   "source": [
    "def get_initial(data):\n",
    "    return tf.constant_initializer(data)"
   ]
  },
  {
   "cell_type": "code",
   "execution_count": 6,
   "metadata": {},
   "outputs": [],
   "source": [
    "def get_bias():\n",
    "    bias=[]\n",
    "    with open(weights_file, 'rb') as f:\n",
    "        weight = pickle.load(f)\n",
    "    for i in range (0,16):\n",
    "        bias.append(np.random.randint(-1,1, size=(weight[i].shape)))\n",
    "    return bias"
   ]
  },
  {
   "cell_type": "code",
   "execution_count": 11,
   "metadata": {},
   "outputs": [],
   "source": [
    "class vgg_face():\n",
    "    \n",
    "    def __init__(self, bgr_mean, weight_file, num_classes=8, weight_decay=5e-4, enable_moving_average=True):\n",
    "        \n",
    "        self.weight = None\n",
    "        with open(weight_file, 'rb') as f:\n",
    "            self.weight = pickle.load(f)\n",
    "            \n",
    "        self.input_x = tf.placeholder(tf.float32, [None, 224, 224, 3], name=\"input_x\")\n",
    "        self.input_y = tf.placeholder(tf.float32, [None, num_classes], name=\"input_y\")\n",
    "        self.dropout_keep_prob = tf.placeholder(tf.float32, name=\"dropout_keep_prob\")\n",
    "        self.bias=get_bias()\n",
    "        mean = tf.constant(bgr_mean, dtype=tf.float32, shape=[1, 1, 1, 3], name='img_mean')\n",
    "        image = self.input_x-mean\n",
    "    \n",
    "        conv1_1 = conv_layer(input=image, filters=64, name= 'conv1_1', kernel_weight= self.weight[0], bias_weight=0)\n",
    "        conv1_2 = conv_layer(input=conv1_1, filters=64, name= 'conv1_2', kernel_weight=self.weight[1], bias_weight=0)\n",
    "        pool1 = max_pool(conv1_2, 'pool1')\n",
    "\n",
    "        conv2_1 = conv_layer(input=pool1, filters=128, name='conv2_1', kernel_weight=self.weight[2], bias_weight=0)\n",
    "        conv2_2 = conv_layer(input=conv2_1, filters=128, name='conv2_2', kernel_weight=self.weight[3], bias_weight=0)\n",
    "        pool2 = max_pool(conv2_2, 'pool2')\n",
    "\n",
    "        conv3_1 = conv_layer(input=pool2, filters=256, name='conv3_1', kernel_weight=self.weight[4], bias_weight=0)\n",
    "        conv3_2 = conv_layer(input=conv3_1, filters=256, name='conv3_2', kernel_weight=self.weight[5], bias_weight=0)\n",
    "        conv3_3 = conv_layer(input=conv3_2, filters=256, name='conv3_3', kernel_weight= self.weight[6], bias_weight=0)\n",
    "        pool3 = max_pool(conv3_3, 'pool3')\n",
    "\n",
    "        conv4_1 = conv_layer(input=pool3, filters=512, name='conv4_1', kernel_weight=self.weight[7], bias_weight=0)\n",
    "        conv4_2 = conv_layer(input=conv4_1, filters=512, name='conv4_2', kernel_weight=self.weight[8], bias_weight=0)\n",
    "        conv4_3 = conv_layer(input=conv4_2, filters=512, name='conv4_3', kernel_weight=self.weight[9], bias_weight=0)\n",
    "        pool4 = max_pool(conv4_3, 'pool4')\n",
    "\n",
    "        conv5_1 = conv_layer(input=pool4, filters=512, name='conv5_1', kernel_weight=self.weight[10], bias_weight=0)\n",
    "        conv5_2 = conv_layer(input=conv5_1, filters=512, name='conv5_2', kernel_weight=self.weight[11], bias_weight=0)\n",
    "        conv5_3 = conv_layer(input=conv5_2, filters=512, name='conv5_3', kernel_weight=self.weight[12], bias_weight=0)\n",
    "        pool5 = max_pool(conv5_3, 'pool5')\n",
    "\n",
    "        shape=int(np.prod(pool5.get_shape()[1:]))\n",
    "        flatten = tf.layers.flatten(pool5, name='flatten')\n",
    "\n",
    "        with tf.variable_scope('fc6'):\n",
    "            w = tf.get_variable('fc6_W', [shape, 4096], tf.constant_initializer(weights[13]),\n",
    "                regularizer=tf.contrib.layers.l2_regularizer(weight_decay))\n",
    "            b = tf.get_variable('fc6_b', [4096], tf.constant_initializer(0))\n",
    "            out = tf.matmul(flatten, w) + b\n",
    "            fc6 = tf.nn.relu(out)\n",
    "            drop1 = tf.nn.dropout(fc6, self.dropout_keep_prob, name='drop1')\n",
    "\n",
    "        with tf.variable_scope('fc7'):\n",
    "            w = tf.get_variable('fc7_W', [drop1.get_shape()[1], 4096], tf.constant_initializer(weights[13]),\n",
    "                regularizer=tf.contrib.layers.l2_regularizer(weight_decay))\n",
    "            b = tf.get_variable('fc7_b', [4096], tf.constant_initializer(0))\n",
    "            out = tf.matmul(self.drop1, w) + b\n",
    "            fc7 = tf.nn.relu(out)\n",
    "            drop2 = tf.nn.dropout(self.fc7, self.dropout_keep_prob, name='drop2')\n",
    "\n",
    "        with tf.variable_scope('fc8'):\n",
    "            w = tf.get_variable('fc8_W', [drop2.get_shape()[1], num_classes],tf.random_normal_initializer(stddev=0.01),\n",
    "                regularizer=tf.contrib.layers.l2_regularizer(weight_decay))\n",
    "            b = tf.get_variable('fc8_b', [num_classes], initializer=tf.constant_initializer(0.0))\n",
    "            self.fc8 = tf.matmul(self.drop2, w) + b\n",
    "            self.parameters += [w, b]\n",
    "\n",
    "            \n",
    "        y = tf.layers.dense(flatten, 4096, activation=tf.nn.relu, name='dense1')\n",
    "        y = tf.layers.dropout(y, 0.5, name='dp1')\n",
    "        y = tf.layers.dense(y, 4096, activation=tf.nn.relu, name='dens2')\n",
    "        y = tf.layers.dropout(y, 0.5, name='dp2')\n",
    "        self.fc= tf.layers.dropout(y, 0.5, name='dp2')\n",
    "        y = tf.layers.dense(y, num_classes, name='y')\n",
    "            \n",
    "        softmax_res = tf.nn.softmax(y, name='softmax')\n",
    "\n",
    "        self.weight = None\n",
    "\n",
    "        with tf.name_scope(\"loss\"):\n",
    "            self.predictions=tf.argmax(self.fc, 1, name='prediction')\n",
    "            losses = tf.nn.softmax_cross_entropy_with_logits(logits = self.fc, labels = self.input_y)\n",
    "            regularization_losses = sum(tf.get_collection(tf.GraphKeys.REGULARIZATION_LOSSES))\n",
    "            \n",
    "            if enable_moving_average:\n",
    "                total_loss = tf.reduce_mean(losses) + regularization_losses\n",
    "                moving_averages = tf.train.ExponentialMovingAverage(0.9)\n",
    "                moving_averages_op = moving_averages.apply([tf.reduce_mean(losses)] + [total_loss])\n",
    "                with tf.control_dependencies([moving_averages_op]):\n",
    "                    self.loss = tf.identity(total_loss)\n",
    "            else:\n",
    "                self.loss = tf.reduce_mean(losses) + regularization_losses\n",
    "\n",
    "        # Accuracy\n",
    "        with tf.name_scope(\"accuracy\"):\n",
    "            correct_predictions = tf.equal(self.predictions, tf.argmax(self.input_y, 1))\n",
    "            self.accuracy = tf.reduce_mean(tf.cast(correct_predictions, \"float\"), name=\"accuracy\")"
   ]
  },
  {
   "cell_type": "code",
   "execution_count": null,
   "metadata": {},
   "outputs": [],
   "source": []
  }
 ],
 "metadata": {
  "kernelspec": {
   "display_name": "Tensorflow-Py3",
   "language": "python",
   "name": "tensorflow-py3"
  },
  "language_info": {
   "codemirror_mode": {
    "name": "ipython",
    "version": 3
   },
   "file_extension": ".py",
   "mimetype": "text/x-python",
   "name": "python",
   "nbconvert_exporter": "python",
   "pygments_lexer": "ipython3",
   "version": "3.6.9"
  }
 },
 "nbformat": 4,
 "nbformat_minor": 4
}
