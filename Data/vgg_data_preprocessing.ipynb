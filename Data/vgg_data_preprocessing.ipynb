{
 "cells": [
  {
   "cell_type": "code",
   "execution_count": 2,
   "metadata": {},
   "outputs": [],
   "source": [
    "#Loding Libraries and Dependencies\n",
    "\n",
    "import numpy as np\n",
    "import tensorflow as tf\n",
    "from scipy.io import loadmat\n",
    "from keras.models import Model\n",
    "from keras.models import model_from_json, Sequential\n",
    "from keras.layers import Input, Convolution2D, ZeroPadding2D, MaxPooling2D, Flatten, Dropout, Activation\n",
    "import h5py\n",
    "import pandas as pd\n"
   ]
  },
  {
   "cell_type": "code",
   "execution_count": 3,
   "metadata": {},
   "outputs": [],
   "source": [
    "#Loading the pre-trained weights from .mat model\n",
    "file2='/home/rishi/Projects/Matroid/vgg networks/vgg_face_matconvnet/vgg_face_matconvnet/data/vgg_face.mat'\n",
    "data=loadmat(file2)"
   ]
  },
  {
   "cell_type": "code",
   "execution_count": 5,
   "metadata": {},
   "outputs": [],
   "source": [
    "#HandWritten Model-For extracting weights\n",
    "model = Sequential()\n",
    "model.add(ZeroPadding2D((1,1),input_shape=(224,224, 3)))\n",
    "model.add(Convolution2D(64, (3, 3), name= 'conv1_1'))\n",
    "model.add(Activation('relu', name='relu1_1'))\n",
    "model.add(ZeroPadding2D((1,1)))\n",
    "model.add(Convolution2D(64, (3, 3), name= 'conv1_2'))\n",
    "model.add(Activation('relu', name='relu1_2'))\n",
    "model.add(MaxPooling2D((2,2), strides=(2,2), name='pool1'))\n",
    " \n",
    "model.add(ZeroPadding2D((1,1)))\n",
    "model.add(Convolution2D(128, (3, 3), name= 'conv2_1'))\n",
    "model.add(Activation('relu', name='relu2_1'))\n",
    "model.add(ZeroPadding2D((1,1)))\n",
    "model.add(Convolution2D(128, (3, 3), name= 'conv2_2'))\n",
    "model.add(Activation('relu', name='relu2_2'))\n",
    "model.add(MaxPooling2D((2,2), strides=(2,2), name='pool2'))\n",
    " \n",
    "model.add(ZeroPadding2D((1,1)))\n",
    "model.add(Convolution2D(256, (3, 3), name= 'conv3_1'))\n",
    "model.add(Activation('relu', name='relu3_1'))\n",
    "model.add(ZeroPadding2D((1,1)))\n",
    "model.add(Convolution2D(256, (3, 3), name= 'conv3_2'))\n",
    "model.add(Activation('relu', name='relu3_2'))\n",
    "model.add(ZeroPadding2D((1,1)))\n",
    "model.add(Convolution2D(256, (3, 3), name= 'conv3_3'))\n",
    "model.add(Activation('relu', name='relu3_3'))\n",
    "model.add(MaxPooling2D((2,2), strides=(2,2), name='pool3'))\n",
    " \n",
    "model.add(ZeroPadding2D((1,1)))\n",
    "model.add(Convolution2D(512, (3, 3), name= 'conv4_1'))\n",
    "model.add(Activation('relu', name='relu4_1'))\n",
    "model.add(ZeroPadding2D((1,1)))\n",
    "model.add(Convolution2D(512, (3, 3), name= 'conv4_2'))\n",
    "model.add(Activation('relu', name='relu4_2'))\n",
    "model.add(ZeroPadding2D((1,1)))\n",
    "model.add(Convolution2D(512, (3, 3), name= 'conv4_3'))\n",
    "model.add(Activation('relu', name='relu4_3'))\n",
    "model.add(MaxPooling2D((2,2), strides=(2,2), name='pool4'))\n",
    " \n",
    "model.add(ZeroPadding2D((1,1)))\n",
    "model.add(Convolution2D(512, (3, 3), name= 'conv5_1'))\n",
    "model.add(Activation('relu', name='relu5_1'))\n",
    "model.add(ZeroPadding2D((1,1)))\n",
    "model.add(Convolution2D(512, (3, 3), name= 'conv5_2'))\n",
    "model.add(Activation('relu', name='relu5_2'))\n",
    "model.add(ZeroPadding2D((1,1)))\n",
    "model.add(Convolution2D(512, (3, 3), name= 'conv5_3'))\n",
    "model.add(Activation('relu', name='relu5_3'))\n",
    "model.add(MaxPooling2D((2,2), strides=(2,2), name='pool5'))\n",
    " \n",
    "model.add(Convolution2D(4096, (7, 7), name= 'fc6'))\n",
    "model.add(Activation('relu', name='relu6'))\n",
    "model.add(Dropout(0.5, name='dropout6'))\n",
    "model.add(Convolution2D(4096, (1, 1), name= 'fc7'))\n",
    "model.add(Activation('relu', name='relu7'))\n",
    "model.add(Dropout(0.5, name='dropout7'))\n",
    "model.add(Convolution2D(2622, (1, 1), name= 'fc8'))\n",
    "model.add(Activation('relu'))\n",
    "model.add(Flatten())\n",
    "model.add(Activation('softmax', name= 'softmax'))"
   ]
  },
  {
   "cell_type": "code",
   "execution_count": 7,
   "metadata": {},
   "outputs": [],
   "source": [
    "#net consists of layers, weights, biases\n",
    "net=data['net'][0][0]\n",
    "ref_model_layers=net['layers']"
   ]
  },
  {
   "cell_type": "code",
   "execution_count": 66,
   "metadata": {},
   "outputs": [
    {
     "name": "stdout",
     "output_type": "stream",
     "text": [
      "conv1_1 : (3, 3, 3, 64)\n",
      "conv1_2 : (3, 3, 64, 64)\n",
      "conv2_1 : (3, 3, 64, 128)\n",
      "conv2_2 : (3, 3, 128, 128)\n",
      "conv3_1 : (3, 3, 128, 256)\n",
      "conv3_2 : (3, 3, 256, 256)\n",
      "conv3_3 : (3, 3, 256, 256)\n",
      "conv4_1 : (3, 3, 256, 512)\n",
      "conv4_2 : (3, 3, 512, 512)\n",
      "conv4_3 : (3, 3, 512, 512)\n",
      "conv5_1 : (3, 3, 512, 512)\n",
      "conv5_2 : (3, 3, 512, 512)\n",
      "conv5_3 : (3, 3, 512, 512)\n",
      "fc6 : (7, 7, 512, 4096)\n",
      "fc7 : (1, 1, 4096, 4096)\n",
      "fc8 : (1, 1, 4096, 2622)\n"
     ]
    }
   ],
   "source": [
    "#Ensuring that only Convolutional and fc layers are being considered\n",
    "#for extracting weights. Pooling Layers and Relu will give errors.\n",
    "for i in range(ref_model_layers.shape[1]):\n",
    "    ref_model_layer=ref_model_layers[0][i][0][0]['name'][0]\n",
    "    \n",
    "    try:\n",
    "        weights=ref_model_layers[0][i][0][0]['weights'][0][0]\n",
    "        print(ref_model_layer, \":\", weights.shape)\n",
    "    except:\n",
    "        print(\"\",end=\"\")"
   ]
  },
  {
   "cell_type": "code",
   "execution_count": 77,
   "metadata": {},
   "outputs": [
    {
     "name": "stdout",
     "output_type": "stream",
     "text": [
      "0 .  conv1_1\n",
      "2 .  conv1_2\n",
      "5 .  conv2_1\n",
      "7 .  conv2_2\n",
      "10 .  conv3_1\n",
      "12 .  conv3_2\n",
      "14 .  conv3_3\n",
      "17 .  conv4_1\n",
      "19 .  conv4_2\n",
      "21 .  conv4_3\n",
      "24 .  conv5_1\n",
      "26 .  conv5_2\n",
      "28 .  conv5_3\n",
      "31 .  fc6\n",
      "34 .  fc7\n",
      "37 .  fc8\n"
     ]
    }
   ],
   "source": [
    "#Checking if MATLAB files and our vars contain the same layers or not\n",
    "#If they do, extract weights and biases to store in Keras format.\n",
    "\n",
    "base_model_layer_names = [layer.name for layer in model.layers]\n",
    "num_of_ref_model_layers = ref_model_layers.shape[1]\n",
    "for i in range(num_of_ref_model_layers):\n",
    "    ref_model_layer=ref_model_layers[0][i][0][0]['name'][0]\n",
    "    if ref_model_layer in base_model_layer_names:\n",
    "        #we just need to set convolution and fully connected weights\n",
    "        if ref_model_layer.find(\"conv\") == 0 or ref_model_layer.find(\"fc\") == 0:\n",
    "            print(i,\". \",ref_model_layer)\n",
    "            base_model_index = base_model_layer_names.index(ref_model_layer)\n",
    "\n",
    "            weights=ref_model_layers[0][i][0][0]['weights'][0][0]\n",
    "            bias = ref_model_layers[0][i][0][0]['weights'][0][1]\n",
    "\n",
    "            model.layers[base_model_index].set_weights([weights, bias[:,0]])"
   ]
  },
  {
   "cell_type": "code",
   "execution_count": 83,
   "metadata": {},
   "outputs": [],
   "source": [
    "#Saving the weights and Model for Keras\n",
    "model.save_weights(\"vgg_pretrained_weights.h5\")\n",
    "model_config=model.to_json()\n",
    "open(\"model_structure.json\", \"w\").write(model_config)\n",
    "model.save(\"model.hdf5\")"
   ]
  },
  {
   "cell_type": "code",
   "execution_count": null,
   "metadata": {},
   "outputs": [],
   "source": []
  }
 ],
 "metadata": {
  "kernelspec": {
   "display_name": "Tensorflow-Py3",
   "language": "python",
   "name": "tensorflow-py3"
  },
  "language_info": {
   "codemirror_mode": {
    "name": "ipython",
    "version": 3
   },
   "file_extension": ".py",
   "mimetype": "text/x-python",
   "name": "python",
   "nbconvert_exporter": "python",
   "pygments_lexer": "ipython3",
   "version": "3.6.9"
  }
 },
 "nbformat": 4,
 "nbformat_minor": 4
}
